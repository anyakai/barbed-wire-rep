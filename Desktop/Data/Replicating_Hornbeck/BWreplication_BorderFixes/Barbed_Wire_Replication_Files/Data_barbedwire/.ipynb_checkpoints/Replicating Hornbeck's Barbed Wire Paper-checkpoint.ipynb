{
 "cells": [
  {
   "cell_type": "code",
   "execution_count": 1,
   "metadata": {
    "collapsed": true
   },
   "outputs": [],
   "source": [
    "#Try to import the data and look at at least one dataset and try to understand \n",
    "#how the datasets are different"
   ]
  },
  {
   "cell_type": "code",
   "execution_count": 27,
   "metadata": {
    "collapsed": true
   },
   "outputs": [],
   "source": [
    "import pandas as pd\n",
    "import csv\n",
    "import os "
   ]
  },
  {
   "cell_type": "code",
   "execution_count": 96,
   "metadata": {
    "collapsed": false
   },
   "outputs": [
    {
     "name": "stdout",
     "output_type": "stream",
     "text": [
      "9\n",
      "['Export_18801870.txt', 'Export_18901870.txt', 'Export_18901880.txt', 'Export_19001870.txt', 'Export_19001880.txt', 'Export_19101870.txt', 'Export_19101880.txt', 'Export_19201870.txt', 'Export_19201880.txt']\n",
      "---\n",
      "['02896-0049-Data.dta', '02896-0050-Data.dta', '02896-0085-Data.dta', '04254-0001-Data.dta', '04254-0002-Data.dta', '04254-0003-Data.dta', '04254-0004-Data.dta', '04254-0005-Data.dta', '04254-0006-Data.dta', '1900_webextract.dta']\n",
      "10\n"
     ]
    }
   ],
   "source": [
    "my_dir = '/Users/anastasiakaiser/Desktop/BWreplication_BorderFixes/Barbed_Wire_Replication_Files/Data_barbedwire/'\n",
    "all_files = os.listdir(my_dir)   # imagine you're one directory above test dir\n",
    "txt_files = filter(lambda x: x[-4:] == '.txt', all_files)\n",
    "dta_files = filter(lambda x: x[-4:] == '.dta', all_files)\n",
    "print(len(txt_files))\n",
    "print(txt_files)\n",
    "print('---')\n",
    "print(dta_files)\n",
    "print(len(dta_files))"
   ]
  },
  {
   "cell_type": "code",
   "execution_count": 75,
   "metadata": {
    "collapsed": false
   },
   "outputs": [],
   "source": [
    "data1 = read_text_files(my_dir,txt_files[0])\n",
    "data2 = read_text_files(my_dir,txt_files[1])\n",
    "data3 = read_text_files(my_dir,txt_files[2])\n",
    "data4 = read_text_files(my_dir,txt_files[3])\n",
    "data5 = read_text_files(my_dir,txt_files[4])\n",
    "data6 = read_text_files(my_dir,txt_files[5])\n",
    "data7 = read_text_files(my_dir,txt_files[6])\n",
    "data8 = read_text_files(my_dir,txt_files[7])\n",
    "data9 = read_text_files(my_dir,txt_files[8])\n"
   ]
  },
  {
   "cell_type": "code",
   "execution_count": 99,
   "metadata": {
    "collapsed": false
   },
   "outputs": [
    {
     "data": {
      "text/html": [
       "<div>\n",
       "<table border=\"1\" class=\"dataframe\">\n",
       "  <thead>\n",
       "    <tr style=\"text-align: right;\">\n",
       "      <th></th>\n",
       "      <th>AREA</th>\n",
       "      <th>AREA_1</th>\n",
       "      <th>CNTY_AREA</th>\n",
       "      <th>CNTY_ARE_1</th>\n",
       "      <th>COUNTY</th>\n",
       "      <th>COUNTY_1</th>\n",
       "      <th>FID_us1880</th>\n",
       "      <th>FID_us1920</th>\n",
       "      <th>ID</th>\n",
       "      <th>ID_1</th>\n",
       "      <th>PERIMETER</th>\n",
       "      <th>PERIMETE_1</th>\n",
       "      <th>STATE</th>\n",
       "      <th>STATE_1</th>\n",
       "      <th>new_area</th>\n",
       "    </tr>\n",
       "  </thead>\n",
       "  <tbody>\n",
       "    <tr>\n",
       "      <th>0</th>\n",
       "      <td>2310.268</td>\n",
       "      <td>4114.430</td>\n",
       "      <td>2082.0</td>\n",
       "      <td>3714.2</td>\n",
       "      <td>WHATCOM</td>\n",
       "      <td>WHATCOM</td>\n",
       "      <td>0</td>\n",
       "      <td>0</td>\n",
       "      <td>53073</td>\n",
       "      <td>53073</td>\n",
       "      <td>256.190</td>\n",
       "      <td>334.043</td>\n",
       "      <td>Washington</td>\n",
       "      <td>Washington</td>\n",
       "      <td>2310.232</td>\n",
       "    </tr>\n",
       "    <tr>\n",
       "      <th>1</th>\n",
       "      <td>2310.268</td>\n",
       "      <td>15406.814</td>\n",
       "      <td>2082.0</td>\n",
       "      <td>13908.1</td>\n",
       "      <td>WHATCOM</td>\n",
       "      <td>STEVENS</td>\n",
       "      <td>3</td>\n",
       "      <td>0</td>\n",
       "      <td>53073</td>\n",
       "      <td>53065</td>\n",
       "      <td>256.190</td>\n",
       "      <td>711.067</td>\n",
       "      <td>Washington</td>\n",
       "      <td>Washington</td>\n",
       "      <td>0.000</td>\n",
       "    </tr>\n",
       "    <tr>\n",
       "      <th>2</th>\n",
       "      <td>1866.918</td>\n",
       "      <td>1866.921</td>\n",
       "      <td>1726.0</td>\n",
       "      <td>1685.3</td>\n",
       "      <td>CLALLAM</td>\n",
       "      <td>CLALLAM</td>\n",
       "      <td>1</td>\n",
       "      <td>1</td>\n",
       "      <td>53009</td>\n",
       "      <td>53009</td>\n",
       "      <td>224.962</td>\n",
       "      <td>224.959</td>\n",
       "      <td>Washington</td>\n",
       "      <td>Washington</td>\n",
       "      <td>1866.897</td>\n",
       "    </tr>\n",
       "    <tr>\n",
       "      <th>3</th>\n",
       "      <td>1866.918</td>\n",
       "      <td>2022.405</td>\n",
       "      <td>1726.0</td>\n",
       "      <td>1825.7</td>\n",
       "      <td>CLALLAM</td>\n",
       "      <td>JEFFERSON</td>\n",
       "      <td>5</td>\n",
       "      <td>1</td>\n",
       "      <td>53009</td>\n",
       "      <td>53031</td>\n",
       "      <td>224.962</td>\n",
       "      <td>307.543</td>\n",
       "      <td>Washington</td>\n",
       "      <td>Washington</td>\n",
       "      <td>0.016</td>\n",
       "    </tr>\n",
       "    <tr>\n",
       "      <th>4</th>\n",
       "      <td>202.590</td>\n",
       "      <td>202.598</td>\n",
       "      <td>178.0</td>\n",
       "      <td>179.0</td>\n",
       "      <td>SAN JUAN</td>\n",
       "      <td>SAN JUAN</td>\n",
       "      <td>2</td>\n",
       "      <td>2</td>\n",
       "      <td>53055</td>\n",
       "      <td>53055</td>\n",
       "      <td>93.506</td>\n",
       "      <td>93.502</td>\n",
       "      <td>Washington</td>\n",
       "      <td>Washington</td>\n",
       "      <td>202.582</td>\n",
       "    </tr>\n",
       "  </tbody>\n",
       "</table>\n",
       "</div>"
      ],
      "text/plain": [
       "       AREA     AREA_1 CNTY_AREA CNTY_ARE_1    COUNTY   COUNTY_1 FID_us1880  \\\n",
       "0  2310.268   4114.430    2082.0     3714.2   WHATCOM    WHATCOM          0   \n",
       "1  2310.268  15406.814    2082.0    13908.1   WHATCOM    STEVENS          3   \n",
       "2  1866.918   1866.921    1726.0     1685.3   CLALLAM    CLALLAM          1   \n",
       "3  1866.918   2022.405    1726.0     1825.7   CLALLAM  JEFFERSON          5   \n",
       "4   202.590    202.598     178.0      179.0  SAN JUAN   SAN JUAN          2   \n",
       "\n",
       "  FID_us1920     ID   ID_1 PERIMETER PERIMETE_1       STATE     STATE_1  \\\n",
       "0          0  53073  53073   256.190    334.043  Washington  Washington   \n",
       "1          0  53073  53065   256.190    711.067  Washington  Washington   \n",
       "2          1  53009  53009   224.962    224.959  Washington  Washington   \n",
       "3          1  53009  53031   224.962    307.543  Washington  Washington   \n",
       "4          2  53055  53055    93.506     93.502  Washington  Washington   \n",
       "\n",
       "   new_area  \n",
       "0  2310.232  \n",
       "1     0.000  \n",
       "2  1866.897  \n",
       "3     0.016  \n",
       "4   202.582  "
      ]
     },
     "execution_count": 99,
     "metadata": {},
     "output_type": "execute_result"
    }
   ],
   "source": [
    "data9.head()"
   ]
  },
  {
   "cell_type": "code",
   "execution_count": null,
   "metadata": {
    "collapsed": true
   },
   "outputs": [],
   "source": []
  },
  {
   "cell_type": "code",
   "execution_count": 77,
   "metadata": {
    "collapsed": false
   },
   "outputs": [
    {
     "data": {
      "text/html": [
       "<div>\n",
       "<table border=\"1\" class=\"dataframe\">\n",
       "  <thead>\n",
       "    <tr style=\"text-align: right;\">\n",
       "      <th></th>\n",
       "      <th>AREA</th>\n",
       "      <th>AREA_1</th>\n",
       "      <th>CNTY_AREA</th>\n",
       "      <th>CNTY_ARE_1</th>\n",
       "      <th>COUNTY</th>\n",
       "      <th>COUNTY_1</th>\n",
       "      <th>FID_us1870</th>\n",
       "      <th>FID_us1890</th>\n",
       "      <th>ID</th>\n",
       "      <th>ID_1</th>\n",
       "      <th>PERIMETER</th>\n",
       "      <th>PERIMETE_1</th>\n",
       "      <th>STATE</th>\n",
       "      <th>STATE_1</th>\n",
       "      <th>new_area</th>\n",
       "    </tr>\n",
       "  </thead>\n",
       "  <tbody>\n",
       "    <tr>\n",
       "      <th>0</th>\n",
       "      <td>2318.995</td>\n",
       "      <td>4119.638</td>\n",
       "      <td>2093.4</td>\n",
       "      <td>3718.9</td>\n",
       "      <td>WHATCOM</td>\n",
       "      <td>WHATCOM</td>\n",
       "      <td>0</td>\n",
       "      <td>0</td>\n",
       "      <td>53073</td>\n",
       "      <td>53073</td>\n",
       "      <td>255.971</td>\n",
       "      <td>334.044</td>\n",
       "      <td>Washington</td>\n",
       "      <td>Washington</td>\n",
       "      <td>2318.995</td>\n",
       "    </tr>\n",
       "    <tr>\n",
       "      <th>1</th>\n",
       "      <td>1866.921</td>\n",
       "      <td>1828.394</td>\n",
       "      <td>1685.3</td>\n",
       "      <td>1650.5</td>\n",
       "      <td>CLALLAM</td>\n",
       "      <td>CLALLAM</td>\n",
       "      <td>1</td>\n",
       "      <td>1</td>\n",
       "      <td>53009</td>\n",
       "      <td>53009</td>\n",
       "      <td>224.959</td>\n",
       "      <td>222.468</td>\n",
       "      <td>Washington</td>\n",
       "      <td>Washington</td>\n",
       "      <td>1827.459</td>\n",
       "    </tr>\n",
       "  </tbody>\n",
       "</table>\n",
       "</div>"
      ],
      "text/plain": [
       "       AREA    AREA_1 CNTY_AREA CNTY_ARE_1   COUNTY COUNTY_1 FID_us1870  \\\n",
       "0  2318.995  4119.638    2093.4     3718.9  WHATCOM  WHATCOM          0   \n",
       "1  1866.921  1828.394    1685.3     1650.5  CLALLAM  CLALLAM          1   \n",
       "\n",
       "  FID_us1890     ID   ID_1 PERIMETER PERIMETE_1       STATE     STATE_1  \\\n",
       "0          0  53073  53073   255.971    334.044  Washington  Washington   \n",
       "1          1  53009  53009   224.959    222.468  Washington  Washington   \n",
       "\n",
       "   new_area  \n",
       "0  2318.995  \n",
       "1  1827.459  "
      ]
     },
     "execution_count": 77,
     "metadata": {},
     "output_type": "execute_result"
    }
   ],
   "source": [
    "data2.head(2)"
   ]
  },
  {
   "cell_type": "code",
   "execution_count": 78,
   "metadata": {
    "collapsed": false
   },
   "outputs": [
    {
     "data": {
      "text/html": [
       "<div>\n",
       "<table border=\"1\" class=\"dataframe\">\n",
       "  <thead>\n",
       "    <tr style=\"text-align: right;\">\n",
       "      <th></th>\n",
       "      <th>AREA</th>\n",
       "      <th>AREA_1</th>\n",
       "      <th>CNTY_AREA</th>\n",
       "      <th>CNTY_ARE_1</th>\n",
       "      <th>COUNTY</th>\n",
       "      <th>COUNTY_1</th>\n",
       "      <th>FID_us1880</th>\n",
       "      <th>FID_us1900</th>\n",
       "      <th>ID</th>\n",
       "      <th>ID_1</th>\n",
       "      <th>PERIMETER</th>\n",
       "      <th>PERIMETE_1</th>\n",
       "      <th>STATE</th>\n",
       "      <th>STATE_1</th>\n",
       "      <th>new_area</th>\n",
       "    </tr>\n",
       "  </thead>\n",
       "  <tbody>\n",
       "    <tr>\n",
       "      <th>0</th>\n",
       "      <td>2318.994</td>\n",
       "      <td>4114.430</td>\n",
       "      <td>2226.0</td>\n",
       "      <td>3714.2</td>\n",
       "      <td>WHATCOM</td>\n",
       "      <td>WHATCOM</td>\n",
       "      <td>0</td>\n",
       "      <td>0</td>\n",
       "      <td>53073</td>\n",
       "      <td>53073</td>\n",
       "      <td>255.972</td>\n",
       "      <td>334.043</td>\n",
       "      <td>Washington</td>\n",
       "      <td>Washington</td>\n",
       "      <td>2318.994</td>\n",
       "    </tr>\n",
       "    <tr>\n",
       "      <th>1</th>\n",
       "      <td>1866.921</td>\n",
       "      <td>1866.921</td>\n",
       "      <td>1807.0</td>\n",
       "      <td>1685.3</td>\n",
       "      <td>CLALLAM</td>\n",
       "      <td>CLALLAM</td>\n",
       "      <td>1</td>\n",
       "      <td>1</td>\n",
       "      <td>53009</td>\n",
       "      <td>53009</td>\n",
       "      <td>224.959</td>\n",
       "      <td>224.959</td>\n",
       "      <td>Washington</td>\n",
       "      <td>Washington</td>\n",
       "      <td>1866.921</td>\n",
       "    </tr>\n",
       "  </tbody>\n",
       "</table>\n",
       "</div>"
      ],
      "text/plain": [
       "       AREA    AREA_1 CNTY_AREA CNTY_ARE_1   COUNTY COUNTY_1 FID_us1880  \\\n",
       "0  2318.994  4114.430    2226.0     3714.2  WHATCOM  WHATCOM          0   \n",
       "1  1866.921  1866.921    1807.0     1685.3  CLALLAM  CLALLAM          1   \n",
       "\n",
       "  FID_us1900     ID   ID_1 PERIMETER PERIMETE_1       STATE     STATE_1  \\\n",
       "0          0  53073  53073   255.972    334.043  Washington  Washington   \n",
       "1          1  53009  53009   224.959    224.959  Washington  Washington   \n",
       "\n",
       "   new_area  \n",
       "0  2318.994  \n",
       "1  1866.921  "
      ]
     },
     "execution_count": 78,
     "metadata": {},
     "output_type": "execute_result"
    }
   ],
   "source": [
    "data5.head(2)"
   ]
  },
  {
   "cell_type": "code",
   "execution_count": null,
   "metadata": {
    "collapsed": true
   },
   "outputs": [],
   "source": [
    "\n",
    "data = pd.io.stata.read_stata('my_stata_file.dta')\n",
    "data.to_csv('my_stata_file.csv')"
   ]
  },
  {
   "cell_type": "code",
   "execution_count": 85,
   "metadata": {
    "collapsed": false
   },
   "outputs": [],
   "source": [
    "alt_dir = '/Users/anastasiakaiser/Desktop/BWreplication_BorderFixes/Stata to CSV/'\n",
    "farm1 = read_text_files(alt_dir,'02896-0049-Data.csv')"
   ]
  },
  {
   "cell_type": "code",
   "execution_count": 91,
   "metadata": {
    "collapsed": false,
    "scrolled": true
   },
   "outputs": [
    {
     "data": {
      "text/plain": [
       "0    10\n",
       "1    30\n",
       "2    50\n",
       "3    70\n",
       "4    90\n",
       "Name: county, dtype: object"
      ]
     },
     "execution_count": 91,
     "metadata": {},
     "output_type": "execute_result"
    }
   ],
   "source": [
    "farm1['county'].head()"
   ]
  },
  {
   "cell_type": "code",
   "execution_count": 83,
   "metadata": {
    "collapsed": false
   },
   "outputs": [],
   "source": [
    "def read_text_files(path,file):\n",
    "    with open(path + file, 'rt') as f:\n",
    "        reader = csv.reader(f, delimiter='\\t', skipinitialspace=True)\n",
    "        lineData = list()\n",
    "        cols = next(reader)\n",
    "\n",
    "        for col in cols:\n",
    "            # Create a list in lineData for each column of data.\n",
    "            lineData.append(list())\n",
    "        for line in reader:\n",
    "            for i in xrange(0, len(lineData)):\n",
    "            # Copy the data from the line into the correct columns.\n",
    "                lineData[i].append(line[i])\n",
    "        my_dict = dict()\n",
    "\n",
    "        for i in xrange(0, len(cols)):\n",
    "            # Create each key in the dict with the data in its column.\n",
    "            my_dict[cols[i]] = lineData[i]\n",
    "    df = pd.DataFrame(my_dict)\n",
    "    return df\n",
    "\n",
    "\n"
   ]
  },
  {
   "cell_type": "code",
   "execution_count": 25,
   "metadata": {
    "collapsed": true
   },
   "outputs": [],
   "source": [
    "test = pd.DataFrame(data)"
   ]
  },
  {
   "cell_type": "code",
   "execution_count": 59,
   "metadata": {
    "collapsed": false
   },
   "outputs": [
    {
     "ename": "NameError",
     "evalue": "name 'Export_1880187' is not defined",
     "output_type": "error",
     "traceback": [
      "\u001b[0;31m---------------------------------------------------------------------------\u001b[0m",
      "\u001b[0;31mNameError\u001b[0m                                 Traceback (most recent call last)",
      "\u001b[0;32m<ipython-input-59-4ddd893b2d7d>\u001b[0m in \u001b[0;36m<module>\u001b[0;34m()\u001b[0m\n\u001b[0;32m----> 1\u001b[0;31m \u001b[0mExport_1880187\u001b[0m\u001b[0;34m.\u001b[0m\u001b[0mhead\u001b[0m\u001b[0;34m(\u001b[0m\u001b[0;34m)\u001b[0m\u001b[0;34m\u001b[0m\u001b[0m\n\u001b[0m",
      "\u001b[0;31mNameError\u001b[0m: name 'Export_1880187' is not defined"
     ]
    }
   ],
   "source": [
    "Export_1880187.head()"
   ]
  },
  {
   "cell_type": "code",
   "execution_count": null,
   "metadata": {
    "collapsed": true
   },
   "outputs": [],
   "source": []
  }
 ],
 "metadata": {
  "kernelspec": {
   "display_name": "Python 2",
   "language": "python",
   "name": "python2"
  },
  "language_info": {
   "codemirror_mode": {
    "name": "ipython",
    "version": 2
   },
   "file_extension": ".py",
   "mimetype": "text/x-python",
   "name": "python",
   "nbconvert_exporter": "python",
   "pygments_lexer": "ipython2",
   "version": "2.7.13"
  }
 },
 "nbformat": 4,
 "nbformat_minor": 2
}
